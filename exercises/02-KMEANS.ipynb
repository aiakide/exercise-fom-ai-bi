{
 "cells": [
  {
   "metadata": {},
   "cell_type": "markdown",
   "source": [
    "# Übung: Clustering mit K-Means\n",
    "\n",
    "**Ziel:**\n",
    "In dieser Übung lernen Sie, den K-Means-Algorithmus für unüberwachtes Lernen anzuwenden. Sie laden einen Datensatz, erkunden ihn, standardisieren die Daten, bestimmen passende Cluster-Anzahlen, führen K-Means durch und visualisieren die Ergebnisse. Dabei experimentieren Sie mit Parametern und recherchieren online wichtige Metriken.\n",
    "\n",
    "**Dauer:** ca. 30 Minuten\n",
    "\n",
    "**Voraussetzungen:**\n",
    "- Python-Grundkenntnisse\n",
    "- scikit-learn, pandas, matplotlib, seaborn (optional), ggf. scikit‑learn-extra installiert\n"
   ],
   "id": "2d3db861a010ca76"
  },
  {
   "metadata": {},
   "cell_type": "markdown",
   "source": [
    "## 1. Problemstellung und Datensatz\n",
    "Für viele reale Anwendungen (z. B. Kundensegmentierung, Bildkompression) ist es hilfreich, ähnliche Objekte in Gruppen zusammenzufassen. In dieser Übung nutzen wir dafür den **Wein-Datensatz** (Wine) aus scikit-learn.\n",
    "\n",
    "**Aufgabe:**\n",
    "1. Laden und erkunden Sie den Wine-Datensatz.\n",
    "2. Standardisieren Sie die Features.\n",
    "3. Bestimmen Sie mittels Elbow-Method und Silhouette-Analyse eine geeignete Anzahl von Clustern.\n",
    "4. Führen Sie K-Means durch und interpretieren Sie Cluster-Zentren.\n",
    "5. Visualisieren Sie die Cluster mithilfe von PCA auf 2 Komponenten.\n",
    "6. Reflektieren Sie Einfluss von Parametern und recherchieren Sie online weitere Clustering-Verfahren.\n"
   ],
   "id": "9f76c31c9f0df251"
  },
  {
   "metadata": {},
   "cell_type": "markdown",
   "source": "## 2. Vorbereitung: Daten laden und erkunden",
   "id": "87dbdb99af505124"
  },
  {
   "metadata": {},
   "cell_type": "code",
   "source": [
    "import pandas as pd\n",
    "import numpy as np\n",
    "import matplotlib.pyplot as plt\n",
    "from sklearn.datasets import load_wine\n",
    "\n",
    "# Laden des Wine-Datensatzes\n",
    "data = load_wine()\n",
    "df = pd.DataFrame(data.data, columns=data.feature_names)\n",
    "df['target'] = data.target\n",
    "df.head()"
   ],
   "id": "893b17a0148db925",
   "outputs": [],
   "execution_count": null
  },
  {
   "metadata": {},
   "cell_type": "markdown",
   "source": [
    "### Aufgabe 1:\n",
    "- Nutzen Sie `df.info()` und `df.describe()`. Welche Eigenschaften hat der Datensatz?\n",
    "- Wie groß ist jede Klasse (`value_counts()`)?"
   ],
   "id": "69202999ccf64818"
  },
  {
   "metadata": {},
   "cell_type": "markdown",
   "source": [
    "### Lösung Aufgabe 1:\n",
    "..."
   ],
   "id": "7afc2353f828dad6"
  },
  {
   "metadata": {},
   "cell_type": "markdown",
   "source": "## 3. Datenvorverarbeitung: Standardisierung\n",
   "id": "6a739e2cc9aab6ea"
  },
  {
   "metadata": {},
   "cell_type": "code",
   "source": [
    "# %%\n",
    "from sklearn.preprocessing import StandardScaler\n",
    "\n",
    "# Features extrahieren und standardisieren\n",
    "X = df[data.feature_names]\n",
    "scaler = StandardScaler()\n",
    "X_scaled = scaler.fit_transform(X)\n",
    "\n",
    "# In DataFrame zurück\n",
    "df_scaled = pd.DataFrame(X_scaled, columns=data.feature_names)\n",
    "\n",
    "df_scaled.head()"
   ],
   "id": "70bcce440d36ad58",
   "outputs": [],
   "execution_count": null
  },
  {
   "metadata": {},
   "cell_type": "markdown",
   "source": [
    "### Aufgabe 2:\n",
    "- Warum ist Standardisierung (z. B. `StandardScaler`) vor K-Means wichtig?\n",
    "- Experimentieren Sie: Was ändert sich, wenn Sie nicht skalieren (beim späteren Erstellen der Cluster. Erst nach Aufgabe 8)?"
   ],
   "id": "3c5e56fdfdbaeadb"
  },
  {
   "metadata": {},
   "cell_type": "markdown",
   "source": [
    "### Lösung Aufgabe 2:\n",
    "..."
   ],
   "id": "c42e93ac03589e15"
  },
  {
   "metadata": {},
   "cell_type": "markdown",
   "source": [
    "## 4. Elbow-Method: Wahl der Cluster-Anzahl\n",
    "Beim K-Means-Clustering versucht man, Datenpunkte in k Gruppen zu unterteilen, sodass die Punkte innerhalb eines Clusters möglichst ähnlich sind. Dazu wird die sogenannte Inertia (auch Within-Cluster Sum of Squares, WCSS) berechnet.\n",
    "\n",
    "Die Elbow-Methode hilft dabei, den Punkt zu finden, an dem das Hinzufügen weiterer Cluster keinen signifikanten Gewinn mehr bringt.\n",
    "\n",
    "### Wie funktioniert sie?\n",
    "1. Berechne die Inertia für verschiedene Werte von k (z.B. von 1 bis 10).\n",
    "\n",
    "2. Trage die Inertia gegen k auf einem Diagramm auf.\n",
    "\n",
    "3. Suche nach dem „Knick“ oder „Ellbogen“ in der Kurve – also dem Punkt, ab dem die Inertia nur noch langsam sinkt.\n",
    "\n",
    "Dieser Knick markiert den optimalen Wert für k, da ab diesem Punkt zusätzliche Cluster nur noch geringe Verbesserungen bringen.\n"
   ],
   "id": "cd90a4eb4a9731c7"
  },
  {
   "metadata": {},
   "cell_type": "code",
   "source": [
    "from sklearn.cluster import KMeans\n",
    "\n",
    "inertia = []\n",
    "ks = range(..., ...) # Code anpassen\n",
    "for k in ks:\n",
    "    km = KMeans(n_clusters=k, random_state=42)\n",
    "    km.fit(X_scaled)\n",
    "    inertia.append(km.inertia_)\n",
    "\n",
    "# Elbow-Plot\n",
    "plt.figure(figsize=(8,5))\n",
    "plt.plot(ks, inertia, '-o')\n",
    "plt.xlabel('Anzahl der Cluster k')\n",
    "plt.ylabel('Inertia')\n",
    "plt.title('Elbow-Method zur Bestimmung von k')\n",
    "plt.show()"
   ],
   "id": "1de696ee5280cc85",
   "outputs": [],
   "execution_count": null
  },
  {
   "metadata": {},
   "cell_type": "markdown",
   "source": [
    "### Aufgabe 3:\n",
    "- Interpretieren Sie den Elbow-Plot. Wo erkennen Sie ggf. einen Knick („Elbow“)?\n",
    "- Recherchieren Sie online: Was misst die Inertia genau und welche Limitationen hat sie?"
   ],
   "id": "c4b6c846bc4a5b0d"
  },
  {
   "metadata": {},
   "cell_type": "markdown",
   "source": [
    "### Lösung Aufgabe 3:\n",
    "..."
   ],
   "id": "ca352599d2fa2f14"
  },
  {
   "metadata": {},
   "cell_type": "markdown",
   "source": [
    "## 5. Silhouette-Analyse zur Validierung\n",
    "Der Silhouette-Score misst, wie ähnlich ein Datenpunkt seiner eigenen Clustergruppe im Vergleich zu anderen Clustern ist.\n",
    "\n",
    "### Wie wird die Silhouette-Analyse angewendet?\n",
    "1. Clusterbildung: Führen Sie K-Means-Clustering für verschiedene Werte von k (Anzahl der Cluster) durch.\n",
    "\n",
    "2. Berechnung des Silhouette-Scores: Für jeden k-Wert berechnen Sie den durchschnittlichen Silhouette-Score über alle Datenpunkte.\n",
    "\n",
    "3. Visualisierung: Erstellen Sie ein Diagramm der Silhouette-Scores gegen die Anzahl der Cluster.\n",
    "\n",
    "4. Bestimmung des optimalen k: Wählen Sie den k-Wert mit dem höchsten durchschnittlichen Silhouette-Score als optimale Anzahl von Clustern.\n"
   ],
   "id": "2f99b48e7240de4a"
  },
  {
   "metadata": {},
   "cell_type": "code",
   "source": [
    "from sklearn.metrics import silhouette_score\n",
    "\n",
    "sil_scores = []\n",
    "for k in range(2, 11):\n",
    "    km = KMeans(n_clusters=k, random_state=42)\n",
    "    labels = km.fit_predict(X_scaled)\n",
    "    sil_scores.append(silhouette_score(X_scaled, labels))\n",
    "\n",
    "# Silhouette-Plot\n",
    "plt.figure(figsize=(8,5))\n",
    "plt.plot(range(2,11), sil_scores, '-o')\n",
    "plt.xlabel('Anzahl der Cluster k')\n",
    "plt.ylabel('Silhouette Score')\n",
    "plt.title('Silhouette-Analyse')\n",
    "plt.show()"
   ],
   "id": "b2efb21e9f80ef5f",
   "outputs": [],
   "execution_count": null
  },
  {
   "metadata": {},
   "cell_type": "markdown",
   "source": [
    "### Aufgabe 4:\n",
    "- Welchen k-Wert würden Sie aufgrund des Silhouette-Scores wählen?\n",
    "- Recherchieren Sie: Wie wird der Silhouette-Score berechnet und was sagt er über die Cluster-Struktur aus?\n"
   ],
   "id": "430b615e2d4fa584"
  },
  {
   "metadata": {},
   "cell_type": "markdown",
   "source": [
    "### Lösung Aufgabe 4:\n",
    "..."
   ],
   "id": "a676ed9699d19ead"
  },
  {
   "metadata": {},
   "cell_type": "markdown",
   "source": "## 6. K-Means mit gewähltem k und Interpretation\n",
   "id": "dac2d636d152cb00"
  },
  {
   "metadata": {},
   "cell_type": "code",
   "source": [
    "# Beispiel: k aus vorheriger Analyse\n",
    "chosen_k = 3\n",
    "km = KMeans(n_clusters=chosen_k, random_state=42)\n",
    "labels = km.fit_predict(X_scaled)\n",
    "\n",
    "df['cluster'] = labels\n",
    "\n",
    "# Cluster-Zentren (auf Originaldaten zurücktransformiert)\n",
    "centers = scaler.inverse_transform(km.cluster_centers_)\n",
    "centers_df = pd.DataFrame(centers, columns=data.feature_names)\n",
    "\n",
    "print(\"Cluster-Zentren (ursprüngliche Skala):\")\n",
    "print(centers_df)"
   ],
   "id": "10fad276fd9f8727",
   "outputs": [],
   "execution_count": null
  },
  {
   "metadata": {},
   "cell_type": "markdown",
   "source": [
    "### Aufgabe 5:\n",
    "- Interpretieren Sie die Cluster-Zentren. Welche Merkmale unterscheiden die Cluster am stärksten?\n",
    "- Experiment: Ändern Sie `n_init` oder `max_iter` (Attribute von `KMeans`). Was beobachten Sie?"
   ],
   "id": "252fd6c82badeaec"
  },
  {
   "metadata": {},
   "cell_type": "markdown",
   "source": [
    "### Lösung Aufgabe 5:\n",
    "..."
   ],
   "id": "c473ae5586cded7e"
  },
  {
   "metadata": {},
   "cell_type": "markdown",
   "source": "## 7. Visualisierung mit PCA\n",
   "id": "c4b50b9c7c418707"
  },
  {
   "metadata": {},
   "cell_type": "code",
   "source": [
    "from sklearn.decomposition import PCA\n",
    "\n",
    "# PCA auf 2 Komponenten\n",
    "pca = PCA(n_components=2)\n",
    "X_pca = pca.fit_transform(X_scaled)\n",
    "\n",
    "# Scatterplot\n",
    "df_plot = pd.DataFrame(X_pca, columns=['PC1', 'PC2'])\n",
    "df_plot['cluster'] = labels\n",
    "\n",
    "plt.figure(figsize=(8,6))\n",
    "for c in range(chosen_k):\n",
    "    subset = df_plot[df_plot['cluster'] == c]\n",
    "    plt.scatter(subset['PC1'], subset['PC2'], label=f'Cluster {c}', edgecolor='k')\n",
    "plt.xlabel('PC1')\n",
    "plt.ylabel('PC2')\n",
    "plt.title('K-Means Cluster in PCA-Projektion')\n",
    "plt.legend()\n",
    "plt.show()"
   ],
   "id": "d66a6fba0a951b96",
   "outputs": [],
   "execution_count": null
  },
  {
   "metadata": {},
   "cell_type": "markdown",
   "source": [
    "### Aufgabe 6:\n",
    "- Interpretieren Sie die Verteilung in der PCA-Projektion. Sind die Cluster klar separiert?"
   ],
   "id": "8f10cf748cdc918"
  },
  {
   "metadata": {},
   "cell_type": "markdown",
   "source": [
    "### Lösung Aufgabe 6:\n",
    "...\n"
   ],
   "id": "f70c1c6c27e6d69a"
  },
  {
   "metadata": {},
   "cell_type": "markdown",
   "source": [
    "## 8. Berechnung von Accuracy, Precision und Recall\n",
    "Obwohl Clustering unüberwacht ist, können wir die gefundenen Cluster mit den echten Labels vergleichen und klassifikationsmetrische Auswertungen durchführen.\n",
    "\n"
   ],
   "id": "f003dfc049d842e2"
  },
  {
   "metadata": {},
   "cell_type": "code",
   "source": [
    "from sklearn.metrics import accuracy_score, precision_score, recall_score\n",
    "import numpy as np\n",
    "\n",
    "# Mapping von Cluster zu Label mittels Mehrheitsentscheidung\n",
    "label_mapping = {}\n",
    "for cluster in np.unique(labels):\n",
    "    mask = labels == cluster\n",
    "    true_labels = df.loc[mask, 'target']\n",
    "    most_common = true_labels.mode()[0]\n",
    "    label_mapping[cluster] = most_common\n",
    "\n",
    "# Vorhergesagte Labels anhand des Mapping\n",
    "predicted_labels = np.array([label_mapping[c] for c in labels])\n",
    "\n",
    "# Metriken berechnen\n",
    "acc = accuracy_score(df['target'], predicted_labels)\n",
    "prec = precision_score(df['target'], predicted_labels, average='weighted')\n",
    "rec = recall_score(df['target'], predicted_labels, average='weighted')\n",
    "print(f\"Accuracy: {acc:.3f}\")\n",
    "print(f\"Precision (gewichtet): {prec:.3f}\")\n",
    "print(f\"Recall (gewichtet): {rec:.3f}\")"
   ],
   "id": "a65c70709e1a4ec8",
   "outputs": [],
   "execution_count": null
  },
  {
   "metadata": {},
   "cell_type": "code",
   "source": "",
   "id": "f0dd5a4a4a939953",
   "outputs": [],
   "execution_count": null
  }
 ],
 "metadata": {
  "kernelspec": {
   "display_name": "Python 3",
   "language": "python",
   "name": "python3"
  },
  "language_info": {
   "codemirror_mode": {
    "name": "ipython",
    "version": 2
   },
   "file_extension": ".py",
   "mimetype": "text/x-python",
   "name": "python",
   "nbconvert_exporter": "python",
   "pygments_lexer": "ipython2",
   "version": "2.7.6"
  }
 },
 "nbformat": 4,
 "nbformat_minor": 5
}
