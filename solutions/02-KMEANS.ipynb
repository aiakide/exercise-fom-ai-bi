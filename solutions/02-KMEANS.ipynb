{
 "cells": [
  {
   "metadata": {},
   "cell_type": "markdown",
   "source": [
    "# Übung: Clustering mit K-Means\n",
    "\n",
    "**Ziel:**\n",
    "In dieser Übung lernen Sie, den K-Means-Algorithmus für unüberwachtes Lernen anzuwenden. Sie laden einen Datensatz, erkunden ihn, standardisieren die Daten, bestimmen passende Cluster-Anzahlen, führen K-Means durch und visualisieren die Ergebnisse. Dabei experimentieren Sie mit Parametern und recherchieren online wichtige Metriken.\n",
    "\n",
    "**Dauer:** ca. 30 Minuten\n",
    "\n",
    "**Voraussetzungen:**\n",
    "- Python-Grundkenntnisse\n",
    "- scikit-learn, pandas, matplotlib, seaborn (optional), ggf. scikit‑learn-extra installiert\n"
   ],
   "id": "2d3db861a010ca76"
  },
  {
   "metadata": {},
   "cell_type": "markdown",
   "source": [
    "## 1. Problemstellung und Datensatz\n",
    "Für viele reale Anwendungen (z. B. Kundensegmentierung, Bildkompression) ist es hilfreich, ähnliche Objekte in Gruppen zusammenzufassen. In dieser Übung nutzen wir dafür den **Wein-Datensatz** (Wine) aus scikit-learn.\n",
    "\n",
    "**Aufgabe:**\n",
    "1. Laden und erkunden Sie den Wine-Datensatz.\n",
    "2. Standardisieren Sie die Features.\n",
    "3. Bestimmen Sie mittels Elbow-Method und Silhouette-Analyse eine geeignete Anzahl von Clustern.\n",
    "4. Führen Sie K-Means durch und interpretieren Sie Cluster-Zentren.\n",
    "5. Visualisieren Sie die Cluster mithilfe von PCA auf 2 Komponenten.\n",
    "6. Reflektieren Sie Einfluss von Parametern und recherchieren Sie online weitere Clustering-Verfahren.\n"
   ],
   "id": "9f76c31c9f0df251"
  },
  {
   "metadata": {},
   "cell_type": "markdown",
   "source": "## 2. Vorbereitung: Daten laden und erkunden",
   "id": "87dbdb99af505124"
  },
  {
   "metadata": {
    "ExecuteTime": {
     "end_time": "2025-04-23T16:42:20.353229Z",
     "start_time": "2025-04-23T16:42:20.344686Z"
    }
   },
   "cell_type": "code",
   "source": [
    "import pandas as pd\n",
    "import numpy as np\n",
    "import matplotlib.pyplot as plt\n",
    "from sklearn.datasets import load_wine\n",
    "\n",
    "# Laden des Wine-Datensatzes\n",
    "data = load_wine()\n",
    "df = pd.DataFrame(data.data, columns=data.feature_names)\n",
    "df['target'] = data.target\n",
    "df.head()"
   ],
   "id": "893b17a0148db925",
   "outputs": [
    {
     "data": {
      "text/plain": [
       "   alcohol  malic_acid   ash  alcalinity_of_ash  magnesium  total_phenols  \\\n",
       "0    14.23        1.71  2.43               15.6      127.0           2.80   \n",
       "1    13.20        1.78  2.14               11.2      100.0           2.65   \n",
       "2    13.16        2.36  2.67               18.6      101.0           2.80   \n",
       "3    14.37        1.95  2.50               16.8      113.0           3.85   \n",
       "4    13.24        2.59  2.87               21.0      118.0           2.80   \n",
       "\n",
       "   flavanoids  nonflavanoid_phenols  proanthocyanins  color_intensity   hue  \\\n",
       "0        3.06                  0.28             2.29             5.64  1.04   \n",
       "1        2.76                  0.26             1.28             4.38  1.05   \n",
       "2        3.24                  0.30             2.81             5.68  1.03   \n",
       "3        3.49                  0.24             2.18             7.80  0.86   \n",
       "4        2.69                  0.39             1.82             4.32  1.04   \n",
       "\n",
       "   od280/od315_of_diluted_wines  proline  target  \n",
       "0                          3.92   1065.0       0  \n",
       "1                          3.40   1050.0       0  \n",
       "2                          3.17   1185.0       0  \n",
       "3                          3.45   1480.0       0  \n",
       "4                          2.93    735.0       0  "
      ],
      "text/html": [
       "<div>\n",
       "<style scoped>\n",
       "    .dataframe tbody tr th:only-of-type {\n",
       "        vertical-align: middle;\n",
       "    }\n",
       "\n",
       "    .dataframe tbody tr th {\n",
       "        vertical-align: top;\n",
       "    }\n",
       "\n",
       "    .dataframe thead th {\n",
       "        text-align: right;\n",
       "    }\n",
       "</style>\n",
       "<table border=\"1\" class=\"dataframe\">\n",
       "  <thead>\n",
       "    <tr style=\"text-align: right;\">\n",
       "      <th></th>\n",
       "      <th>alcohol</th>\n",
       "      <th>malic_acid</th>\n",
       "      <th>ash</th>\n",
       "      <th>alcalinity_of_ash</th>\n",
       "      <th>magnesium</th>\n",
       "      <th>total_phenols</th>\n",
       "      <th>flavanoids</th>\n",
       "      <th>nonflavanoid_phenols</th>\n",
       "      <th>proanthocyanins</th>\n",
       "      <th>color_intensity</th>\n",
       "      <th>hue</th>\n",
       "      <th>od280/od315_of_diluted_wines</th>\n",
       "      <th>proline</th>\n",
       "      <th>target</th>\n",
       "    </tr>\n",
       "  </thead>\n",
       "  <tbody>\n",
       "    <tr>\n",
       "      <th>0</th>\n",
       "      <td>14.23</td>\n",
       "      <td>1.71</td>\n",
       "      <td>2.43</td>\n",
       "      <td>15.6</td>\n",
       "      <td>127.0</td>\n",
       "      <td>2.80</td>\n",
       "      <td>3.06</td>\n",
       "      <td>0.28</td>\n",
       "      <td>2.29</td>\n",
       "      <td>5.64</td>\n",
       "      <td>1.04</td>\n",
       "      <td>3.92</td>\n",
       "      <td>1065.0</td>\n",
       "      <td>0</td>\n",
       "    </tr>\n",
       "    <tr>\n",
       "      <th>1</th>\n",
       "      <td>13.20</td>\n",
       "      <td>1.78</td>\n",
       "      <td>2.14</td>\n",
       "      <td>11.2</td>\n",
       "      <td>100.0</td>\n",
       "      <td>2.65</td>\n",
       "      <td>2.76</td>\n",
       "      <td>0.26</td>\n",
       "      <td>1.28</td>\n",
       "      <td>4.38</td>\n",
       "      <td>1.05</td>\n",
       "      <td>3.40</td>\n",
       "      <td>1050.0</td>\n",
       "      <td>0</td>\n",
       "    </tr>\n",
       "    <tr>\n",
       "      <th>2</th>\n",
       "      <td>13.16</td>\n",
       "      <td>2.36</td>\n",
       "      <td>2.67</td>\n",
       "      <td>18.6</td>\n",
       "      <td>101.0</td>\n",
       "      <td>2.80</td>\n",
       "      <td>3.24</td>\n",
       "      <td>0.30</td>\n",
       "      <td>2.81</td>\n",
       "      <td>5.68</td>\n",
       "      <td>1.03</td>\n",
       "      <td>3.17</td>\n",
       "      <td>1185.0</td>\n",
       "      <td>0</td>\n",
       "    </tr>\n",
       "    <tr>\n",
       "      <th>3</th>\n",
       "      <td>14.37</td>\n",
       "      <td>1.95</td>\n",
       "      <td>2.50</td>\n",
       "      <td>16.8</td>\n",
       "      <td>113.0</td>\n",
       "      <td>3.85</td>\n",
       "      <td>3.49</td>\n",
       "      <td>0.24</td>\n",
       "      <td>2.18</td>\n",
       "      <td>7.80</td>\n",
       "      <td>0.86</td>\n",
       "      <td>3.45</td>\n",
       "      <td>1480.0</td>\n",
       "      <td>0</td>\n",
       "    </tr>\n",
       "    <tr>\n",
       "      <th>4</th>\n",
       "      <td>13.24</td>\n",
       "      <td>2.59</td>\n",
       "      <td>2.87</td>\n",
       "      <td>21.0</td>\n",
       "      <td>118.0</td>\n",
       "      <td>2.80</td>\n",
       "      <td>2.69</td>\n",
       "      <td>0.39</td>\n",
       "      <td>1.82</td>\n",
       "      <td>4.32</td>\n",
       "      <td>1.04</td>\n",
       "      <td>2.93</td>\n",
       "      <td>735.0</td>\n",
       "      <td>0</td>\n",
       "    </tr>\n",
       "  </tbody>\n",
       "</table>\n",
       "</div>"
      ]
     },
     "execution_count": 36,
     "metadata": {},
     "output_type": "execute_result"
    }
   ],
   "execution_count": 36
  },
  {
   "metadata": {},
   "cell_type": "markdown",
   "source": [
    "### Aufgabe 1:\n",
    "- Nutzen Sie `df.info()` und `df.describe()`. Welche Eigenschaften hat der Datensatz?\n",
    "- Wie groß ist jede Klasse (`value_counts()`)?"
   ],
   "id": "69202999ccf64818"
  },
  {
   "metadata": {},
   "cell_type": "markdown",
   "source": [
    "### Lösung Aufgabe 1:\n",
    "..."
   ],
   "id": "7afc2353f828dad6"
  },
  {
   "metadata": {},
   "cell_type": "markdown",
   "source": "## 3. Datenvorverarbeitung: Standardisierung\n",
   "id": "6a739e2cc9aab6ea"
  },
  {
   "metadata": {
    "ExecuteTime": {
     "end_time": "2025-04-23T16:42:20.377233Z",
     "start_time": "2025-04-23T16:42:20.371618Z"
    }
   },
   "cell_type": "code",
   "source": [
    "# %%\n",
    "from sklearn.preprocessing import StandardScaler\n",
    "\n",
    "# Features extrahieren und standardisieren\n",
    "X = df[data.feature_names]\n",
    "scaler = StandardScaler()\n",
    "X_scaled = scaler.fit_transform(X)\n",
    "\n",
    "# In DataFrame zurück\n",
    "df_scaled = pd.DataFrame(X_scaled, columns=data.feature_names)\n",
    "\n",
    "df_scaled.head()"
   ],
   "id": "70bcce440d36ad58",
   "outputs": [
    {
     "data": {
      "text/plain": [
       "    alcohol  malic_acid       ash  alcalinity_of_ash  magnesium  \\\n",
       "0  1.518613   -0.562250  0.232053          -1.169593   1.913905   \n",
       "1  0.246290   -0.499413 -0.827996          -2.490847   0.018145   \n",
       "2  0.196879    0.021231  1.109334          -0.268738   0.088358   \n",
       "3  1.691550   -0.346811  0.487926          -0.809251   0.930918   \n",
       "4  0.295700    0.227694  1.840403           0.451946   1.281985   \n",
       "\n",
       "   total_phenols  flavanoids  nonflavanoid_phenols  proanthocyanins  \\\n",
       "0       0.808997    1.034819             -0.659563         1.224884   \n",
       "1       0.568648    0.733629             -0.820719        -0.544721   \n",
       "2       0.808997    1.215533             -0.498407         2.135968   \n",
       "3       2.491446    1.466525             -0.981875         1.032155   \n",
       "4       0.808997    0.663351              0.226796         0.401404   \n",
       "\n",
       "   color_intensity       hue  od280/od315_of_diluted_wines   proline  \n",
       "0         0.251717  0.362177                      1.847920  1.013009  \n",
       "1        -0.293321  0.406051                      1.113449  0.965242  \n",
       "2         0.269020  0.318304                      0.788587  1.395148  \n",
       "3         1.186068 -0.427544                      1.184071  2.334574  \n",
       "4        -0.319276  0.362177                      0.449601 -0.037874  "
      ],
      "text/html": [
       "<div>\n",
       "<style scoped>\n",
       "    .dataframe tbody tr th:only-of-type {\n",
       "        vertical-align: middle;\n",
       "    }\n",
       "\n",
       "    .dataframe tbody tr th {\n",
       "        vertical-align: top;\n",
       "    }\n",
       "\n",
       "    .dataframe thead th {\n",
       "        text-align: right;\n",
       "    }\n",
       "</style>\n",
       "<table border=\"1\" class=\"dataframe\">\n",
       "  <thead>\n",
       "    <tr style=\"text-align: right;\">\n",
       "      <th></th>\n",
       "      <th>alcohol</th>\n",
       "      <th>malic_acid</th>\n",
       "      <th>ash</th>\n",
       "      <th>alcalinity_of_ash</th>\n",
       "      <th>magnesium</th>\n",
       "      <th>total_phenols</th>\n",
       "      <th>flavanoids</th>\n",
       "      <th>nonflavanoid_phenols</th>\n",
       "      <th>proanthocyanins</th>\n",
       "      <th>color_intensity</th>\n",
       "      <th>hue</th>\n",
       "      <th>od280/od315_of_diluted_wines</th>\n",
       "      <th>proline</th>\n",
       "    </tr>\n",
       "  </thead>\n",
       "  <tbody>\n",
       "    <tr>\n",
       "      <th>0</th>\n",
       "      <td>1.518613</td>\n",
       "      <td>-0.562250</td>\n",
       "      <td>0.232053</td>\n",
       "      <td>-1.169593</td>\n",
       "      <td>1.913905</td>\n",
       "      <td>0.808997</td>\n",
       "      <td>1.034819</td>\n",
       "      <td>-0.659563</td>\n",
       "      <td>1.224884</td>\n",
       "      <td>0.251717</td>\n",
       "      <td>0.362177</td>\n",
       "      <td>1.847920</td>\n",
       "      <td>1.013009</td>\n",
       "    </tr>\n",
       "    <tr>\n",
       "      <th>1</th>\n",
       "      <td>0.246290</td>\n",
       "      <td>-0.499413</td>\n",
       "      <td>-0.827996</td>\n",
       "      <td>-2.490847</td>\n",
       "      <td>0.018145</td>\n",
       "      <td>0.568648</td>\n",
       "      <td>0.733629</td>\n",
       "      <td>-0.820719</td>\n",
       "      <td>-0.544721</td>\n",
       "      <td>-0.293321</td>\n",
       "      <td>0.406051</td>\n",
       "      <td>1.113449</td>\n",
       "      <td>0.965242</td>\n",
       "    </tr>\n",
       "    <tr>\n",
       "      <th>2</th>\n",
       "      <td>0.196879</td>\n",
       "      <td>0.021231</td>\n",
       "      <td>1.109334</td>\n",
       "      <td>-0.268738</td>\n",
       "      <td>0.088358</td>\n",
       "      <td>0.808997</td>\n",
       "      <td>1.215533</td>\n",
       "      <td>-0.498407</td>\n",
       "      <td>2.135968</td>\n",
       "      <td>0.269020</td>\n",
       "      <td>0.318304</td>\n",
       "      <td>0.788587</td>\n",
       "      <td>1.395148</td>\n",
       "    </tr>\n",
       "    <tr>\n",
       "      <th>3</th>\n",
       "      <td>1.691550</td>\n",
       "      <td>-0.346811</td>\n",
       "      <td>0.487926</td>\n",
       "      <td>-0.809251</td>\n",
       "      <td>0.930918</td>\n",
       "      <td>2.491446</td>\n",
       "      <td>1.466525</td>\n",
       "      <td>-0.981875</td>\n",
       "      <td>1.032155</td>\n",
       "      <td>1.186068</td>\n",
       "      <td>-0.427544</td>\n",
       "      <td>1.184071</td>\n",
       "      <td>2.334574</td>\n",
       "    </tr>\n",
       "    <tr>\n",
       "      <th>4</th>\n",
       "      <td>0.295700</td>\n",
       "      <td>0.227694</td>\n",
       "      <td>1.840403</td>\n",
       "      <td>0.451946</td>\n",
       "      <td>1.281985</td>\n",
       "      <td>0.808997</td>\n",
       "      <td>0.663351</td>\n",
       "      <td>0.226796</td>\n",
       "      <td>0.401404</td>\n",
       "      <td>-0.319276</td>\n",
       "      <td>0.362177</td>\n",
       "      <td>0.449601</td>\n",
       "      <td>-0.037874</td>\n",
       "    </tr>\n",
       "  </tbody>\n",
       "</table>\n",
       "</div>"
      ]
     },
     "execution_count": 37,
     "metadata": {},
     "output_type": "execute_result"
    }
   ],
   "execution_count": 37
  },
  {
   "metadata": {},
   "cell_type": "markdown",
   "source": [
    "### Aufgabe 2:\n",
    "- Warum ist Standardisierung (z. B. `StandardScaler`) vor K-Means wichtig?\n",
    "- Experimentieren Sie: Was ändert sich, wenn Sie nicht skalieren (beim späteren Erstellen der Cluster. Erst nach Aufgabe 8)?"
   ],
   "id": "3c5e56fdfdbaeadb"
  },
  {
   "metadata": {},
   "cell_type": "markdown",
   "source": [
    "### Lösung Aufgabe 2:\n",
    "..."
   ],
   "id": "c42e93ac03589e15"
  },
  {
   "metadata": {},
   "cell_type": "markdown",
   "source": [
    "## 4. Elbow-Method: Wahl der Cluster-Anzahl\n",
    "Beim K-Means-Clustering versucht man, Datenpunkte in k Gruppen zu unterteilen, sodass die Punkte innerhalb eines Clusters möglichst ähnlich sind. Dazu wird die sogenannte Inertia (auch Within-Cluster Sum of Squares, WCSS) berechnet.\n",
    "\n",
    "Die Elbow-Methode hilft dabei, den Punkt zu finden, an dem das Hinzufügen weiterer Cluster keinen signifikanten Gewinn mehr bringt.\n",
    "\n",
    "### Wie funktioniert sie?\n",
    "1. Berechne die Inertia für verschiedene Werte von k (z.B. von 1 bis 10).\n",
    "\n",
    "2. Trage die Inertia gegen k auf einem Diagramm auf.\n",
    "\n",
    "3. Suche nach dem „Knick“ oder „Ellbogen“ in der Kurve – also dem Punkt, ab dem die Inertia nur noch langsam sinkt.\n",
    "\n",
    "Dieser Knick markiert den optimalen Wert für k, da ab diesem Punkt zusätzliche Cluster nur noch geringe Verbesserungen bringen.\n"
   ],
   "id": "cd90a4eb4a9731c7"
  },
  {
   "metadata": {
    "ExecuteTime": {
     "end_time": "2025-04-23T16:42:20.444063Z",
     "start_time": "2025-04-23T16:42:20.403057Z"
    }
   },
   "cell_type": "code",
   "source": [
    "from sklearn.cluster import KMeans\n",
    "\n",
    "inertia = []\n",
    "ks = range(1, 10)\n",
    "for k in ks:\n",
    "    km = KMeans(n_clusters=k, random_state=42)\n",
    "    km.fit(X_scaled)\n",
    "    inertia.append(km.inertia_)\n",
    "\n",
    "# Elbow-Plot\n",
    "plt.figure(figsize=(8,5))\n",
    "plt.plot(ks, inertia, '-o')\n",
    "plt.xlabel('Anzahl der Cluster k')\n",
    "plt.ylabel('Inertia')\n",
    "plt.title('Elbow-Method zur Bestimmung von k')\n",
    "plt.show()"
   ],
   "id": "1de696ee5280cc85",
   "outputs": [
    {
     "data": {
      "text/plain": [
       "<Figure size 800x500 with 1 Axes>"
      ],
      "image/png": "[encoded data removed]"
     },
     "metadata": {},
     "output_type": "display_data"
    }
   ],
   "execution_count": 38
  },
  {
   "metadata": {},
   "cell_type": "markdown",
   "source": [
    "### Aufgabe 3:\n",
    "- Interpretieren Sie den Elbow-Plot. Wo erkennen Sie ggf. einen Knick („Elbow“)?\n",
    "- Recherchieren Sie online: Was misst die Inertia genau und welche Limitationen hat sie?"
   ],
   "id": "c4b6c846bc4a5b0d"
  },
  {
   "metadata": {},
   "cell_type": "markdown",
   "source": [
    "### Lösung Aufgabe 3:\n",
    "..."
   ],
   "id": "ca352599d2fa2f14"
  },
  {
   "metadata": {},
   "cell_type": "markdown",
   "source": [
    "## 5. Silhouette-Analyse zur Validierung\n",
    "Der Silhouette-Score misst, wie ähnlich ein Datenpunkt seiner eigenen Clustergruppe im Vergleich zu anderen Clustern ist.\n",
    "\n",
    "### Wie wird die Silhouette-Analyse angewendet?\n",
    "1. Clusterbildung: Führen Sie K-Means-Clustering für verschiedene Werte von k (Anzahl der Cluster) durch.\n",
    "\n",
    "2. Berechnung des Silhouette-Scores: Für jeden k-Wert berechnen Sie den durchschnittlichen Silhouette-Score über alle Datenpunkte.\n",
    "\n",
    "3. Visualisierung: Erstellen Sie ein Diagramm der Silhouette-Scores gegen die Anzahl der Cluster.\n",
    "\n",
    "4. Bestimmung des optimalen k: Wählen Sie den k-Wert mit dem höchsten durchschnittlichen Silhouette-Score als optimale Anzahl von Clustern.\n"
   ],
   "id": "2f99b48e7240de4a"
  },
  {
   "metadata": {
    "ExecuteTime": {
     "end_time": "2025-04-23T16:42:20.503818Z",
     "start_time": "2025-04-23T16:42:20.457533Z"
    }
   },
   "cell_type": "code",
   "source": [
    "from sklearn.metrics import silhouette_score\n",
    "\n",
    "sil_scores = []\n",
    "for k in range(2, 11):\n",
    "    km = KMeans(n_clusters=k, random_state=42)\n",
    "    labels = km.fit_predict(X_scaled)\n",
    "    sil_scores.append(silhouette_score(X_scaled, labels))\n",
    "\n",
    "# Silhouette-Plot\n",
    "plt.figure(figsize=(8,5))\n",
    "plt.plot(range(2,11), sil_scores, '-o')\n",
    "plt.xlabel('Anzahl der Cluster k')\n",
    "plt.ylabel('Silhouette Score')\n",
    "plt.title('Silhouette-Analyse')\n",
    "plt.show()"
   ],
   "id": "b2efb21e9f80ef5f",
   "outputs": [
    {
     "data": {
      "text/plain": [
       "<Figure size 800x500 with 1 Axes>"
      ],
      "image/png": "[encoded data removed]"
     },
     "metadata": {},
     "output_type": "display_data"
    }
   ],
   "execution_count": 39
  },
  {
   "metadata": {},
   "cell_type": "markdown",
   "source": [
    "### Aufgabe 4:\n",
    "- Welchen k-Wert würden Sie aufgrund des Silhouette-Scores wählen?\n",
    "- Recherchieren Sie: Wie wird der Silhouette-Score berechnet und was sagt er über die Cluster-Struktur aus?\n"
   ],
   "id": "430b615e2d4fa584"
  },
  {
   "metadata": {},
   "cell_type": "markdown",
   "source": [
    "### Lösung Aufgabe 4:\n",
    "..."
   ],
   "id": "a676ed9699d19ead"
  },
  {
   "metadata": {},
   "cell_type": "markdown",
   "source": "## 6. K-Means mit gewähltem k und Interpretation\n",
   "id": "dac2d636d152cb00"
  },
  {
   "metadata": {
    "ExecuteTime": {
     "end_time": "2025-04-23T16:42:20.514593Z",
     "start_time": "2025-04-23T16:42:20.509528Z"
    }
   },
   "cell_type": "code",
   "source": [
    "# Beispiel: k aus vorheriger Analyse\n",
    "chosen_k = 3\n",
    "km = KMeans(n_clusters=chosen_k, random_state=42)\n",
    "labels = km.fit_predict(X_scaled)\n",
    "\n",
    "df['cluster'] = labels\n",
    "\n",
    "# Cluster-Zentren (auf Originaldaten zurücktransformiert)\n",
    "centers = scaler.inverse_transform(km.cluster_centers_)\n",
    "centers_df = pd.DataFrame(centers, columns=data.feature_names)\n",
    "\n",
    "print(\"Cluster-Zentren (ursprüngliche Skala):\")\n",
    "print(centers_df)"
   ],
   "id": "10fad276fd9f8727",
   "outputs": [
    {
     "name": "stdout",
     "output_type": "stream",
     "text": [
      "Cluster-Zentren (ursprüngliche Skala):\n",
      "     alcohol  malic_acid       ash  alcalinity_of_ash   magnesium  \\\n",
      "0  12.250923    1.897385  2.231231          20.063077   92.738462   \n",
      "1  13.134118    3.307255  2.417647          21.241176   98.666667   \n",
      "2  13.676774    1.997903  2.466290          17.462903  107.967742   \n",
      "\n",
      "   total_phenols  flavanoids  nonflavanoid_phenols  proanthocyanins  \\\n",
      "0       2.247692    2.050000              0.357692         1.624154   \n",
      "1       1.683922    0.818824              0.451961         1.145882   \n",
      "2       2.847581    3.003226              0.292097         1.922097   \n",
      "\n",
      "   color_intensity       hue  od280/od315_of_diluted_wines      proline  \n",
      "0         2.973077  1.062708                      2.803385   510.169231  \n",
      "1         7.234706  0.691961                      1.696667   619.058824  \n",
      "2         5.453548  1.065484                      3.163387  1100.225806  \n"
     ]
    }
   ],
   "execution_count": 40
  },
  {
   "metadata": {},
   "cell_type": "markdown",
   "source": [
    "### Aufgabe 5:\n",
    "- Interpretieren Sie die Cluster-Zentren. Welche Merkmale unterscheiden die Cluster am stärksten?\n",
    "- Experiment: Ändern Sie `n_init` oder `max_iter` (Attribute von `KMeans`). Was beobachten Sie?"
   ],
   "id": "252fd6c82badeaec"
  },
  {
   "metadata": {},
   "cell_type": "markdown",
   "source": [
    "### Lösung Aufgabe 5:\n",
    "..."
   ],
   "id": "c473ae5586cded7e"
  },
  {
   "metadata": {},
   "cell_type": "markdown",
   "source": "## 7. Visualisierung mit PCA\n",
   "id": "c4b50b9c7c418707"
  },
  {
   "metadata": {
    "ExecuteTime": {
     "end_time": "2025-04-23T16:42:20.570423Z",
     "start_time": "2025-04-23T16:42:20.525255Z"
    }
   },
   "cell_type": "code",
   "source": [
    "from sklearn.decomposition import PCA\n",
    "\n",
    "# PCA auf 2 Komponenten\n",
    "pca = PCA(n_components=2)\n",
    "X_pca = pca.fit_transform(X_scaled)\n",
    "\n",
    "# Scatterplot\n",
    "df_plot = pd.DataFrame(X_pca, columns=['PC1', 'PC2'])\n",
    "df_plot['cluster'] = labels\n",
    "\n",
    "plt.figure(figsize=(8,6))\n",
    "for c in range(chosen_k):\n",
    "    subset = df_plot[df_plot['cluster'] == c]\n",
    "    plt.scatter(subset['PC1'], subset['PC2'], label=f'Cluster {c}', edgecolor='k')\n",
    "plt.xlabel('PC1')\n",
    "plt.ylabel('PC2')\n",
    "plt.title('K-Means Cluster in PCA-Projektion')\n",
    "plt.legend()\n",
    "plt.show()"
   ],
   "id": "d66a6fba0a951b96",
   "outputs": [
    {
     "data": {
      "text/plain": [
       "<Figure size 800x600 with 1 Axes>"
      ],
      "image/png": "[encoded data removed]"
     },
     "metadata": {},
     "output_type": "display_data"
    }
   ],
   "execution_count": 41
  },
  {
   "metadata": {},
   "cell_type": "markdown",
   "source": [
    "### Aufgabe 6:\n",
    "- Interpretieren Sie die Verteilung in der PCA-Projektion. Sind die Cluster klar separiert?"
   ],
   "id": "8f10cf748cdc918"
  },
  {
   "metadata": {},
   "cell_type": "markdown",
   "source": [
    "### Lösung Aufgabe 6:\n",
    "...\n"
   ],
   "id": "f70c1c6c27e6d69a"
  },
  {
   "metadata": {},
   "cell_type": "markdown",
   "source": [
    "## 8. Berechnung von Accuracy, Precision und Recall\n",
    "Obwohl Clustering unüberwacht ist, können wir die gefundenen Cluster mit den echten Labels vergleichen und klassifikationsmetrische Auswertungen durchführen.\n",
    "\n"
   ],
   "id": "f003dfc049d842e2"
  },
  {
   "metadata": {
    "ExecuteTime": {
     "end_time": "2025-04-23T16:42:20.585793Z",
     "start_time": "2025-04-23T16:42:20.581144Z"
    }
   },
   "cell_type": "code",
   "source": [
    "from sklearn.metrics import accuracy_score, precision_score, recall_score\n",
    "import numpy as np\n",
    "\n",
    "# Mapping von Cluster zu Label mittels Mehrheitsentscheidung\n",
    "label_mapping = {}\n",
    "for cluster in np.unique(labels):\n",
    "    mask = labels == cluster\n",
    "    true_labels = df.loc[mask, 'target']\n",
    "    most_common = true_labels.mode()[0]\n",
    "    label_mapping[cluster] = most_common\n",
    "\n",
    "# Vorhergesagte Labels anhand des Mapping\n",
    "predicted_labels = np.array([label_mapping[c] for c in labels])\n",
    "\n",
    "# Metriken berechnen\n",
    "acc = accuracy_score(df['target'], predicted_labels)\n",
    "prec = precision_score(df['target'], predicted_labels, average='weighted')\n",
    "rec = recall_score(df['target'], predicted_labels, average='weighted')\n",
    "print(f\"Accuracy: {acc:.3f}\")\n",
    "print(f\"Precision (gewichtet): {prec:.3f}\")\n",
    "print(f\"Recall (gewichtet): {rec:.3f}\")"
   ],
   "id": "a65c70709e1a4ec8",
   "outputs": [
    {
     "name": "stdout",
     "output_type": "stream",
     "text": [
      "Accuracy: 0.966\n",
      "Precision (gewichtet): 0.968\n",
      "Recall (gewichtet): 0.966\n"
     ]
    }
   ],
   "execution_count": 42
  },
  {
   "metadata": {
    "ExecuteTime": {
     "end_time": "2025-04-23T16:42:20.597490Z",
     "start_time": "2025-04-23T16:42:20.596397Z"
    }
   },
   "cell_type": "code",
   "source": "",
   "id": "f0dd5a4a4a939953",
   "outputs": [],
   "execution_count": null
  }
 ],
 "metadata": {
  "kernelspec": {
   "display_name": "Python 3",
   "language": "python",
   "name": "python3"
  },
  "language_info": {
   "codemirror_mode": {
    "name": "ipython",
    "version": 2
   },
   "file_extension": ".py",
   "mimetype": "text/x-python",
   "name": "python",
   "nbconvert_exporter": "python",
   "pygments_lexer": "ipython2",
   "version": "2.7.6"
  }
 },
 "nbformat": 4,
 "nbformat_minor": 5
}
