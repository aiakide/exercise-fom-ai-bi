{
 "cells": [
  {
   "cell_type": "markdown",
   "metadata": {
    "id": "3kUNIl1lP5g8"
   },
   "source": [
    "# Deep Learning Workshop"
   ]
  },
  {
   "cell_type": "markdown",
   "metadata": {
    "id": "c59lBIXN1as1"
   },
   "source": [
    "Importing necessary libraries and modules from Fastai for working with deep learning tasks, particularly in computer vision."
   ]
  },
  {
   "cell_type": "code",
   "metadata": {
    "executionInfo": {
     "elapsed": 26286,
     "status": "ok",
     "timestamp": 1748194898322,
     "user": {
      "displayName": "Nils Uhrberg",
      "userId": "11725433427983625145"
     },
     "user_tz": -120
    },
    "id": "vc2osFtTVCTF"
   },
   "source": [
    "from fastai.vision.all import *"
   ],
   "outputs": [],
   "execution_count": null
  },
  {
   "cell_type": "markdown",
   "metadata": {
    "id": "7xQsE7qt1U8N"
   },
   "source": [
    "Downloads and extracts the Oxford-IIIT Pet dataset from Fastai's URLs.PETS source and sets the base directory to \"sample_data/oxford-iiit-pet\"."
   ]
  },
  {
   "cell_type": "code",
   "metadata": {
    "colab": {
     "base_uri": "https://localhost:8080/",
     "height": 37
    },
    "executionInfo": {
     "elapsed": 23502,
     "status": "ok",
     "timestamp": 1748194921821,
     "user": {
      "displayName": "Nils Uhrberg",
      "userId": "11725433427983625145"
     },
     "user_tz": -120
    },
    "id": "ellZzmVJVgp0",
    "outputId": "78378188-c9b4-4188-e0b6-15d48e906e32"
   },
   "source": [
    "data_path = untar_data(URLs.PETS,base=\"sample_data/oxford-iiit-pet\")"
   ],
   "outputs": [],
   "execution_count": null
  },
  {
   "cell_type": "markdown",
   "metadata": {
    "id": "Wo-p9H2V1QbS"
   },
   "source": [
    "Lists the contents of the data directory."
   ]
  },
  {
   "cell_type": "code",
   "metadata": {
    "colab": {
     "base_uri": "https://localhost:8080/"
    },
    "executionInfo": {
     "elapsed": 8,
     "status": "ok",
     "timestamp": 1748194921825,
     "user": {
      "displayName": "Nils Uhrberg",
      "userId": "11725433427983625145"
     },
     "user_tz": -120
    },
    "id": "c55-cLiuVpNX",
    "outputId": "0c902dd8-f2fd-42f2-9cae-63b0423f834b"
   },
   "source": [
    "data_path.ls()"
   ],
   "outputs": [],
   "execution_count": null
  },
  {
   "cell_type": "markdown",
   "metadata": {
    "id": "NnKTKMy21Jgp"
   },
   "source": [
    "Retrieves a list of image file paths within the \"images\" directory of the dataset."
   ]
  },
  {
   "cell_type": "code",
   "metadata": {
    "colab": {
     "base_uri": "https://localhost:8080/"
    },
    "executionInfo": {
     "elapsed": 16,
     "status": "ok",
     "timestamp": 1748194921840,
     "user": {
      "displayName": "Nils Uhrberg",
      "userId": "11725433427983625145"
     },
     "user_tz": -120
    },
    "id": "zW7t7_glV5cE",
    "outputId": "e4f86baa-977d-4dfd-9804-46725afcddcf"
   },
   "source": [
    "files = get_image_files(data_path/\"images\")\n",
    "len(files)"
   ],
   "outputs": [],
   "execution_count": null
  },
  {
   "cell_type": "markdown",
   "metadata": {
    "id": "APFW5y0J1C-x"
   },
   "source": [
    "Defines a regular expression pattern to extract labels from the file names of images in the dataset. This pattern extracts the label before the underscore in the file names."
   ]
  },
  {
   "cell_type": "code",
   "metadata": {
    "executionInfo": {
     "elapsed": 7,
     "status": "ok",
     "timestamp": 1748194921848,
     "user": {
      "displayName": "Nils Uhrberg",
      "userId": "11725433427983625145"
     },
     "user_tz": -120
    },
    "id": "sB0PzQa4WHDl"
   },
   "source": [
    "pattern = r'^(.*)_\\d+.jpg'"
   ],
   "outputs": [],
   "execution_count": null
  },
  {
   "cell_type": "markdown",
   "metadata": {
    "id": "Y5bU1ccX05Q6"
   },
   "source": [
    "Constructs dataloaders for training and validation datasets from the file paths and label pattern defined earlier. It applies resizing transformation to images to have a size of 460 pixels (maintaining aspect ratio) before batching, and additional augmentations during training."
   ]
  },
  {
   "cell_type": "code",
   "metadata": {
    "executionInfo": {
     "elapsed": 1418,
     "status": "ok",
     "timestamp": 1748194923271,
     "user": {
      "displayName": "Nils Uhrberg",
      "userId": "11725433427983625145"
     },
     "user_tz": -120
    },
    "id": "oeZMjsKkXeLA"
   },
   "source": [
    "dls = ImageDataLoaders.from_name_re(path=data_path, fnames=files, pat=pattern, item_tfms=Resize(460),\n",
    "                                    batch_tfms=aug_transforms(size=224))"
   ],
   "outputs": [],
   "execution_count": null
  },
  {
   "cell_type": "markdown",
   "metadata": {
    "id": "RUUMtCl-0yne"
   },
   "source": [
    "Displays a batch of images with their corresponding labels from the dataloaders."
   ]
  },
  {
   "cell_type": "code",
   "metadata": {
    "colab": {
     "base_uri": "https://localhost:8080/",
     "height": 752
    },
    "executionInfo": {
     "elapsed": 2208,
     "status": "ok",
     "timestamp": 1748194925481,
     "user": {
      "displayName": "Nils Uhrberg",
      "userId": "11725433427983625145"
     },
     "user_tz": -120
    },
    "id": "mxeiiWvKXkbw",
    "outputId": "e0610ce9-a3af-4613-8257-6033dae02623"
   },
   "source": [
    "dls.show_batch()"
   ],
   "outputs": [],
   "execution_count": null
  },
  {
   "cell_type": "markdown",
   "metadata": {
    "id": "_mws8RhS0s_Y"
   },
   "source": [
    "Initializes a learner object with a pretrained ResNet34 model architecture for transfer learning, using the dataloaders and specifying the error rate as the metric to monitor during training."
   ]
  },
  {
   "cell_type": "code",
   "metadata": {
    "colab": {
     "base_uri": "https://localhost:8080/"
    },
    "executionInfo": {
     "elapsed": 250,
     "status": "ok",
     "timestamp": 1748194925733,
     "user": {
      "displayName": "Nils Uhrberg",
      "userId": "11725433427983625145"
     },
     "user_tz": -120
    },
    "id": "8Y8xeHyfYY5s",
    "outputId": "62d05c1f-8933-461b-a374-220f2a953b59"
   },
   "source": [
    "learn = vision_learner(dls, resnet34, metrics=error_rate)"
   ],
   "outputs": [],
   "execution_count": null
  },
  {
   "cell_type": "markdown",
   "metadata": {
    "id": "RQTyw1gE0Tvq"
   },
   "source": [
    "Runs the learning rate finder to identify an optimal learning rate for training. It suggests the minimum and steepest points on the learning rate curve."
   ]
  },
  {
   "cell_type": "code",
   "metadata": {
    "colab": {
     "base_uri": "https://localhost:8080/",
     "height": 472
    },
    "executionInfo": {
     "elapsed": 49010,
     "status": "ok",
     "timestamp": 1748194974748,
     "user": {
      "displayName": "Nils Uhrberg",
      "userId": "11725433427983625145"
     },
     "user_tz": -120
    },
    "id": "wDZfsE3-Y5bo",
    "outputId": "2da10ba3-028b-4d7c-bc9b-82d3ef00ef85"
   },
   "source": [
    "learn.lr_find(suggest_funcs=(SuggestionMethod.Minimum,SuggestionMethod.Steep))"
   ],
   "outputs": [],
   "execution_count": null
  },
  {
   "cell_type": "markdown",
   "metadata": {
    "id": "M_IRzkpw0G2J"
   },
   "source": [
    " Fine-tunes the pre-trained model for 5 epochs with a learning rate of 35e-4.\n",
    "\n"
   ]
  },
  {
   "cell_type": "code",
   "metadata": {
    "colab": {
     "background_save": true,
     "base_uri": "https://localhost:8080/",
     "height": 253
    },
    "id": "YHQbsRMfY9Yb"
   },
   "source": [
    "learn.fine_tune(5, 35e-4)"
   ],
   "outputs": [],
   "execution_count": null
  },
  {
   "cell_type": "markdown",
   "metadata": {
    "id": "WZH0GcQ0z-eA"
   },
   "source": [
    "Displays the results of the trained model, showing predicted labels along with the corresponding ground truth labels."
   ]
  },
  {
   "cell_type": "code",
   "metadata": {
    "colab": {
     "background_save": true
    },
    "id": "eDKAvPD7jlw-"
   },
   "source": [
    "learn.show_results()"
   ],
   "outputs": [],
   "execution_count": null
  },
  {
   "cell_type": "markdown",
   "metadata": {
    "id": "jTgJUIxKz51y"
   },
   "source": [
    "Generates an interpretation object from the trained learner, which is used to analyze model predictions."
   ]
  },
  {
   "cell_type": "code",
   "metadata": {
    "colab": {
     "background_save": true
    },
    "id": "MtbWwSDKjoFu"
   },
   "source": [
    "interp = Interpretation.from_learner(learn)"
   ],
   "outputs": [],
   "execution_count": null
  },
  {
   "cell_type": "markdown",
   "metadata": {
    "id": "LwYBAePyz0pG"
   },
   "source": [
    "Visualizes the top loss images, i.e., the images where the model's predictions were most incorrect, along with their predicted and actual labels."
   ]
  },
  {
   "cell_type": "code",
   "metadata": {
    "colab": {
     "background_save": true
    },
    "id": "OVBJ-7HzjrR-"
   },
   "source": [
    "interp.plot_top_losses(12, figsize=(25,10))"
   ],
   "outputs": [],
   "execution_count": null
  },
  {
   "cell_type": "markdown",
   "metadata": {
    "id": "NC1zYA8Azrjg"
   },
   "source": [
    "Exports the trained model to a pickle file (\"/model.pkl\") for future use or deployment."
   ]
  },
  {
   "cell_type": "code",
   "metadata": {
    "colab": {
     "background_save": true
    },
    "id": "_LUO5SKllNRK"
   },
   "source": [
    "learn.export(\"/model.pkl\")\n"
   ],
   "outputs": [],
   "execution_count": null
  }
 ],
 "metadata": {
  "accelerator": "GPU",
  "colab": {
   "gpuType": "T4",
   "name": "",
   "provenance": [
    {
     "file_id": "1ONUS09KH7Xa6KNSZk6CWuDjPeeLcuxnX",
     "timestamp": 1715015212460
    }
   ],
   "version": ""
  },
  "kernelspec": {
   "display_name": "Python 3",
   "name": "python3"
  },
  "language_info": {
   "name": "python"
  }
 },
 "nbformat": 4,
 "nbformat_minor": 0
}
