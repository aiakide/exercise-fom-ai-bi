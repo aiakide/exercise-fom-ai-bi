{
 "cells": [
  {
   "metadata": {},
   "cell_type": "markdown",
   "source": [
    "# Übung: Klassifikation mit Random Forest & XGBoost\n",
    "\n",
    "**Ziel dieser Übung:**\n",
    "Vergleichen Sie Random Forest und XGBoost anhand des Breast Cancer Wisconsin (Diagnostic) Datasets. Sie implementieren die Modelle, experimentieren mit Schlüsselparametern und vergleichen die Ergebnisse.\n",
    "\n",
    "**Dauer:** ca. 45 Minuten\n",
    "\n",
    "**Voraussetzungen:** Python, scikit-learn, pandas, matplotlib, xgboost\n"
   ],
   "id": "10d1e8be0cbada00"
  },
  {
   "metadata": {},
   "cell_type": "markdown",
   "source": "## 1. Daten laden und explorative Analyse",
   "id": "7ffb48186960768b"
  },
  {
   "metadata": {},
   "cell_type": "code",
   "source": [
    "from sklearn.datasets import load_breast_cancer\n",
    "import pandas as pd\n",
    "\n",
    "data = load_breast_cancer()\n",
    "df = pd.DataFrame(data.data, columns=data.feature_names)\n",
    "df['target'] = data.target\n",
    "df.head()"
   ],
   "id": "4c5b9c9a9c5f0f7a",
   "outputs": [],
   "execution_count": null
  },
  {
   "metadata": {},
   "cell_type": "markdown",
   "source": [
    "### Aufgabe 1\n",
    "- Führen Sie folgende Befehle aus und interpretieren Sie die Ergebnisse:\n",
    "  - `df.info()`\n",
    "  - `df.describe()`\n",
    "  - `df['target'].value_counts()`\n",
    "- Beantworten Sie:\n",
    "  - Wie viele Beispiele enthält jede Klasse?\n",
    "  - Welche Features weisen Auffälligkeiten in Skala oder Verteilung auf?\n",
    "  - Warum könnte eine Standardisierung später sinnvoll sein? Führen Sie die Standardisierung durch.\n"
   ],
   "id": "8698bb72ab5cd4f0"
  },
  {
   "metadata": {},
   "cell_type": "code",
   "source": [
    "### Lösung\n",
    "..."
   ],
   "id": "6b04f076a86345aa",
   "outputs": [],
   "execution_count": null
  },
  {
   "metadata": {},
   "cell_type": "markdown",
   "source": [
    "### Lösung Aufgabe 1:\n",
    "..."
   ],
   "id": "f79f211f2766c488"
  },
  {
   "metadata": {},
   "cell_type": "markdown",
   "source": "## 2. Datenvorbereitung und Split",
   "id": "2464e57b8630fc7a"
  },
  {
   "metadata": {},
   "cell_type": "code",
   "source": [
    "X = df[data.feature_names]\n",
    "y = df['target']\n",
    "\n",
    "from sklearn.model_selection import train_test_split\n",
    "X_train, X_test, y_train, y_test = train_test_split(\n",
    "    X, y,\n",
    "    test_size=0.3,\n",
    "    random_state=42,\n",
    "    stratify=y\n",
    ")"
   ],
   "id": "6c8d2fda386167b1",
   "outputs": [],
   "execution_count": null
  },
  {
   "metadata": {},
   "cell_type": "markdown",
   "source": [
    "### Aufgabe 2:\n",
    "- Überprüfen Sie die Klassenverteilung in `y_train` und `y_test`."
   ],
   "id": "14940499cd5f188"
  },
  {
   "metadata": {},
   "cell_type": "code",
   "source": [
    "# Lösung\n",
    "..."
   ],
   "id": "4879cac7c2268e80",
   "outputs": [],
   "execution_count": null
  },
  {
   "metadata": {},
   "cell_type": "markdown",
   "source": [
    "## 3. Random Forest Klassifikation\n",
    "\n",
    "### 3.1: Erstes Modelltraining und Evaluation"
   ],
   "id": "5980d133ab0755df"
  },
  {
   "metadata": {},
   "cell_type": "code",
   "source": [
    "from sklearn.ensemble import RandomForestClassifier\n",
    "from sklearn.metrics import accuracy_score, precision_score, recall_score, roc_auc_score\n",
    "\n",
    "rf = RandomForestClassifier(n_estimators=100, random_state=42)\n",
    "rf.fit(X_train, y_train)\n",
    "y_pred = rf.predict(X_test)\n",
    "probs = rf.predict_proba(X_test)[:, 1]"
   ],
   "id": "df6c91efb23c9811",
   "outputs": [],
   "execution_count": null
  },
  {
   "metadata": {},
   "cell_type": "markdown",
   "source": [
    "### Aufgabe 3:\n",
    "- Berechnen und protokollieren Sie:\n",
    "  - Accuracy (`accuracy_score(y_test, y_pred)`)\n",
    "  - Precision (gewichtet) (`precision_score(y_test, y_pred, average='weighted')`)\n",
    "  - Recall (gewichtet) (`recall_score(y_test, y_pred, average='weighted')`)\n",
    "  - ROC-AUC (`roc_auc_score(y_test, probs)`)\n",
    "- Diskutieren Sie: Welche Metrik ist in diesem medizinischen Klassifikationskontext besonders relevant?\n"
   ],
   "id": "1a9a961b265237e0"
  },
  {
   "metadata": {},
   "cell_type": "code",
   "source": [
    "### Lösung\n",
    "..."
   ],
   "id": "ab958cc327cef6a",
   "outputs": [],
   "execution_count": null
  },
  {
   "metadata": {},
   "cell_type": "markdown",
   "source": [
    "### Lösung Aufgabe 3:\n",
    "..."
   ],
   "id": "4cab1904bae9eed2"
  },
  {
   "metadata": {},
   "cell_type": "markdown",
   "source": "### 3.2 Hyperparameter-Experiment\n",
   "id": "ec03525ddc9f4cd7"
  },
  {
   "metadata": {},
   "cell_type": "code",
   "source": [
    "results = []\n",
    "n_estimators = [50, 100, 200]\n",
    "max_depth = [None, 5, 10]\n",
    "for n in n_estimators:\n",
    "    for d in max_depth:\n",
    "        model = RandomForestClassifier(n_estimators=n, max_depth=d, random_state=42)\n",
    "        model.fit(X_train, y_train)\n",
    "        auc = roc_auc_score(y_test, model.predict_proba(X_test)[:, 1])\n",
    "        results.append({'n_estimators': n, 'max_depth': d, 'roc_auc': auc})"
   ],
   "id": "631a6a8930188f63",
   "outputs": [],
   "execution_count": null
  },
  {
   "metadata": {},
   "cell_type": "markdown",
   "source": [
    "### Aufgabe 4:\n",
    "- Wandeln Sie `results` in einen DataFrame um und visualisieren Sie die ROC-AUC-Werte als Heatmap oder Linienplot.\n",
    "- Erläutern Sie den Einfluss von `max_depth` auf Overfitting/Underfitting."
   ],
   "id": "87efeb4f3b250cb"
  },
  {
   "metadata": {},
   "cell_type": "code",
   "source": [
    "### Lösung\n",
    "..."
   ],
   "id": "c14d31bd5a725805",
   "outputs": [],
   "execution_count": null
  },
  {
   "metadata": {},
   "cell_type": "markdown",
   "source": [
    "### Lösung Aufgabe 4:\n",
    "..."
   ],
   "id": "923cbb628c81ba92"
  },
  {
   "metadata": {},
   "cell_type": "markdown",
   "source": [
    "## 4. XGBoost Klassifikation\n",
    "\n",
    "### 4.1 Erstes XGBoost-Modell"
   ],
   "id": "2680d62f0fa00724"
  },
  {
   "metadata": {},
   "cell_type": "code",
   "source": [
    "from xgboost import XGBClassifier\n",
    "\n",
    "xgb = XGBClassifier(\n",
    "    n_estimators=100,\n",
    "    learning_rate=0.1,\n",
    "    random_state=42,\n",
    "    eval_metric='logloss'\n",
    ")\n",
    "xgb.fit(X_train, y_train)\n",
    "y_pred_xgb = xgb.predict(X_test)\n",
    "probs_xgb = xgb.predict_proba(X_test)[:, 1]"
   ],
   "id": "3b67936ddc3108ad",
   "outputs": [],
   "execution_count": null
  },
  {
   "metadata": {},
   "cell_type": "markdown",
   "source": [
    "### Aufgabe 5:\n",
    "- Berechnen Sie dieselben Metriken wie bei Random Forest und vergleichen Sie die Ergebnisse.\n"
   ],
   "id": "74c4822bd87dc580"
  },
  {
   "metadata": {},
   "cell_type": "code",
   "source": [
    "# Lösung\n",
    "..."
   ],
   "id": "bb19ece4387fefe6",
   "outputs": [],
   "execution_count": null
  },
  {
   "metadata": {},
   "cell_type": "markdown",
   "source": "### 4.2 Hyperparameter-Experiment für XGBoost\n",
   "id": "7534316ff6c9264a"
  },
  {
   "metadata": {},
   "cell_type": "code",
   "source": [
    "results_xgb = []\n",
    "learning_rates = [0.01, 0.1, 0.2]\n",
    "n_estimators = [50, 100, 200]\n",
    "for lr in learning_rates:\n",
    "    for n in n_estimators:\n",
    "        model = XGBClassifier(\n",
    "            n_estimators=n,\n",
    "            learning_rate=lr,\n",
    "            random_state=42,\n",
    "            eval_metric='logloss'\n",
    "        )\n",
    "        model.fit(X_train, y_train)\n",
    "        auc = roc_auc_score(y_test, model.predict_proba(X_test)[:, 1])\n",
    "        results_xgb.append({'n_estimators': n, 'learning_rate': lr, 'roc_auc': auc})"
   ],
   "id": "35c78be4a5af0446",
   "outputs": [],
   "execution_count": null
  },
  {
   "metadata": {},
   "cell_type": "markdown",
   "source": [
    "### Aufgabe 6:\n",
    "- Transformieren Sie `results_xgb` zu einem DataFrame und visualisieren Sie die Abhängigkeit der ROC-AUC von `n_estimators` und `learning_rate`.\n"
   ],
   "id": "1783682457be09a1"
  },
  {
   "metadata": {},
   "cell_type": "code",
   "source": [
    "# Lösung\n",
    "..."
   ],
   "id": "1c87d29856d1d7a0",
   "outputs": [],
   "execution_count": null
  },
  {
   "metadata": {},
   "cell_type": "markdown",
   "source": [
    "## 5. Modellvergleich und Visualisierung\n",
    "### 5.1: ROC-Kurven im Vergleich\n",
    "\n"
   ],
   "id": "c6d362fe8ff970fb"
  },
  {
   "metadata": {},
   "cell_type": "code",
   "source": [
    "from sklearn.metrics import roc_curve\n",
    "\n",
    "fpr_rf, tpr_rf, _ = roc_curve(y_test, probs)\n",
    "fpr_xgb, tpr_xgb, _ = roc_curve(y_test, probs_xgb)"
   ],
   "id": "806ac27c9a3fde4c",
   "outputs": [],
   "execution_count": null
  },
  {
   "metadata": {},
   "cell_type": "markdown",
   "source": [
    "### Aufgabe 7:\n",
    "- Plotten Sie beide ROC-Kurven in einem Diagramm und fügen Sie eine Zufallslinie hinzu (`[0,1]`).\n",
    "- Kommentieren Sie: Welches Modell erreicht eine höhere AUC? In welchem Bereich unterscheiden sie sich?"
   ],
   "id": "7619d2c4bc2ecb72"
  },
  {
   "metadata": {},
   "cell_type": "code",
   "source": [
    "# Lösung\n",
    "..."
   ],
   "id": "b07ccb1a38dba818",
   "outputs": [],
   "execution_count": null
  },
  {
   "metadata": {},
   "cell_type": "markdown",
   "source": "### 5.2: Feature Importance vergleichen\n",
   "id": "e661ff53e41b1e85"
  },
  {
   "metadata": {},
   "cell_type": "code",
   "source": [
    "fi_rf = pd.Series(rf.feature_importances_, index=data.feature_names).nlargest(10)\n",
    "fi_xgb = pd.Series(xgb.feature_importances_, index=data.feature_names).nlargest(10)"
   ],
   "id": "befd38787e71bbea",
   "outputs": [],
   "execution_count": null
  },
  {
   "metadata": {},
   "cell_type": "code",
   "source": [
    "#Lösung\n",
    "..."
   ],
   "id": "6b502f3a0d5fd81c",
   "outputs": [],
   "execution_count": null
  },
  {
   "metadata": {},
   "cell_type": "markdown",
   "source": [
    "### Aufgabe 8:\n",
    "- Visualisieren Sie die Feature Importances beider Modelle nebeneinander als Balkendiagramme.\n",
    "- Diskutieren Sie, welche Merkmale für die Klassifikation am relevantesten sind.\n"
   ],
   "id": "d48e8267b3e46863"
  },
  {
   "metadata": {},
   "cell_type": "code",
   "source": [
    "# Lösung\n",
    "..."
   ],
   "id": "7961d4f100d0194f",
   "outputs": [],
   "execution_count": null
  },
  {
   "metadata": {},
   "cell_type": "markdown",
   "source": [
    "### Lösung Aufgabe 8:\n",
    "...\n"
   ],
   "id": "40fa1870aff5c4d3"
  }
 ],
 "metadata": {
  "kernelspec": {
   "display_name": "Python 3",
   "language": "python",
   "name": "python3"
  },
  "language_info": {
   "codemirror_mode": {
    "name": "ipython",
    "version": 2
   },
   "file_extension": ".py",
   "mimetype": "text/x-python",
   "name": "python",
   "nbconvert_exporter": "python",
   "pygments_lexer": "ipython2",
   "version": "2.7.6"
  }
 },
 "nbformat": 4,
 "nbformat_minor": 5
}
