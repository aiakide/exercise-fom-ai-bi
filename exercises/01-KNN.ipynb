{
 "cells": [
  {
   "metadata": {},
   "cell_type": "markdown",
   "source": [
    "# Übung: Klassifikation mit K-Nearest Neighbors (KNN)\n",
    "**Ziel:**\n",
    "In dieser Übung lernen Sie, den KNN-Algorithmus zur Klassifikation einzusetzen. Sie laden einen Datensatz, erkunden ihn, trainieren ein Modell, experimentieren mit Parametern und visualisieren die Ergebnisse. Am Ende reflektieren Sie Ihre Erkenntnisse.\n",
    "\n",
    "**Dauer:** ca. 30 Minuten\n",
    "\n",
    "**Voraussetzungen:**\n",
    "- Python-Grundkenntnisse\n",
    "- scikit-learn, pandas, matplotlib installiert"
   ],
   "id": "40ae0d3f3161782d"
  },
  {
   "metadata": {},
   "cell_type": "markdown",
   "source": [
    "## 1. Problemstellung\n",
    "Stellen Sie sich vor, Sie arbeiten in einem Projekt, in dem Sie anhand von Messwerten die Art von Blüten (z. B. Iris-Setosa, Iris-Versicolor, Iris-Virginica) klassifizieren sollen. Dazu nutzen Sie den bekannten Iris-Datensatz.\n",
    "\n",
    "**Ihre Aufgaben:**\n",
    "1. Daten laden und erkunden\n",
    "2. KNN-Modell aufbauen\n",
    "3. Parameter (z. B. Anzahl Nachbarn) untersuchen\n",
    "4. Ergebnisse visualisieren\n",
    "5. Reflexion: Welchen Einfluss haben Parameter?"
   ],
   "id": "b5ebc4b540630989"
  },
  {
   "metadata": {},
   "cell_type": "markdown",
   "source": [
    "## 2. Vorbereitung: Daten und Bibliotheken\n",
    "Importieren Sie die notwendigen Pakete und laden Sie den Iris-Datensatz."
   ],
   "id": "307325142c7d672c"
  },
  {
   "metadata": {},
   "cell_type": "code",
   "source": [
    "import pandas as pd\n",
    "import numpy as np\n",
    "import matplotlib.pyplot as plt\n",
    "from sklearn.datasets import load_iris\n",
    "from sklearn.model_selection import train_test_split, GridSearchCV\n",
    "from sklearn.neighbors import KNeighborsClassifier\n",
    "from sklearn.metrics import classification_report, confusion_matrix, accuracy_score\n",
    "\n",
    "# Laden des Iris-Datensatzes\n",
    "iris = load_iris()\n",
    "df = pd.DataFrame(data=iris.data, columns=iris.feature_names)\n",
    "df['target'] = iris.target\n",
    "df['species'] = df['target'].map(lambda i: iris.target_names[i])\n",
    "\n",
    "df.head()"
   ],
   "id": "a9f59d5dbdbb9b89",
   "outputs": [],
   "execution_count": null
  },
  {
   "metadata": {},
   "cell_type": "markdown",
   "source": [
    "### Aufgabe 1:\n",
    "- Untersuchen Sie die Struktur des DataFrames (`df.head()`, `.info()`, `.describe()`).\n",
    "- Wie viele Beispiele hat jede Art von Blüte? Verwenden Sie `value_counts()`."
   ],
   "id": "427324ed1e87f2f1"
  },
  {
   "metadata": {},
   "cell_type": "markdown",
   "source": [
    "### Lösung Aufgabe 1\n",
    "..."
   ],
   "id": "caab265af68679e0"
  },
  {
   "metadata": {},
   "cell_type": "markdown",
   "source": [
    "## 3. Datenteilung und erstes Modell\n",
    "Teilen Sie die Daten in Trainings- und Testset auf."
   ],
   "id": "fc19a95bfb9d2b7e"
  },
  {
   "metadata": {},
   "cell_type": "code",
   "source": [
    "# Features und Ziel setzen\n",
    "X = df[iris.feature_names]\n",
    "y = df['target']\n",
    "\n",
    "# Aufteilen in Trainings- und Testdaten\n",
    "X_train, X_test, y_train, y_test = train_test_split(\n",
    "    X, y, test_size=0.3, random_state=42, stratify=y\n",
    ")"
   ],
   "id": "36084b8fd8ed1959",
   "outputs": [],
   "execution_count": null
  },
  {
   "metadata": {},
   "cell_type": "markdown",
   "source": [
    "### Aufgabe 2:\n",
    "- Warum ist `stratify=y` bei Klassifikationsproblemen sinnvoll?\n",
    "- Überlegen Sie, was passieren kann, wenn der Datensatz nicht gleichverteilt im Testset ist.\n"
   ],
   "id": "59880b5335310e65"
  },
  {
   "metadata": {},
   "cell_type": "markdown",
   "source": [
    "### Lösung Aufgabe 2\n",
    "..."
   ],
   "id": "c8a6eb10486ce8e0"
  },
  {
   "metadata": {},
   "cell_type": "markdown",
   "source": [
    "## 4. KNN-Training mit Standardparametern\n",
    "Trainieren Sie ein KNN-Modell mit `n_neighbors=5` und bewerten Sie die Leistung."
   ],
   "id": "a4ffc1b57dd4484f"
  },
  {
   "metadata": {},
   "cell_type": "code",
   "source": [
    "# Modell erstellen und trainieren\n",
    "knn = KNeighborsClassifier(n_neighbors=5)\n",
    "knn.fit(X_train, y_train)\n",
    "\n",
    "# Vorhersagen und Bewertung\n",
    "y_pred = knn.predict(X_test)\n",
    "print(\"Accuracy:\", ...) # Code anpassen\n",
    "print(\"Confusion Matrix:\\n\", ...) # Code anpassen\n",
    "print(\"Classification Report:\\n\", ...) # Code anpassen\n"
   ],
   "id": "afe73ab659b8b8bb",
   "outputs": [],
   "execution_count": null
  },
  {
   "metadata": {},
   "cell_type": "markdown",
   "source": [
    "### Aufgabe 3:\n",
    "- Erweitern Sie den code, sodass die Accuracy, die Confusion Matrix und ein Classification Report erstellt wird. Verwenden Sie dafür sklearn.\n",
    "- Interpretieren Sie Accuracy, Konfusionsmatrix und den Classification Report.\n",
    "- Wo liegen Stärken und Schwächen des Modells?"
   ],
   "id": "8be4259069ba7efb"
  },
  {
   "metadata": {},
   "cell_type": "markdown",
   "source": [
    "### Lösung Aufgabe 3\n",
    "..."
   ],
   "id": "196dcae1944de822"
  },
  {
   "metadata": {},
   "cell_type": "markdown",
   "source": [
    "## 5. Parameter-Experiment: Wahl von k\n",
    "Führen Sie eine GridSearch (`GridSearchCV`) durch, um den besten Wert für `n_neighbors` zu finden. Nutzen Sie Werte von 1 bis 15.\n"
   ],
   "id": "297cd7dd0ec08585"
  },
  {
   "metadata": {},
   "cell_type": "code",
   "source": [
    "param_grid = {'n_neighbors': list(range(1, 16))}\n",
    "grid = GridSearchCV(KNeighborsClassifier(), param_grid, cv=5)\n",
    "grid.fit(X_train, y_train)\n",
    "\n",
    "print(\"Beste Parameter:\", grid.best_params_)\n",
    "print(\"Beste Cross-Validation Accuracy:\", grid.best_score_)\n",
    "\n",
    "# Plotten des Erfolgs in Abhängigkeit von k\n",
    "results = pd.DataFrame(grid.cv_results_)[['param_n_neighbors', 'mean_test_score']]\n",
    "plt.figure(figsize=(8,5))\n",
    "plt.plot(results['param_n_neighbors'], results['mean_test_score'], marker='o')\n",
    "plt.xlabel('Anzahl Nachbarn (k)')\n",
    "plt.ylabel('Mittlere CV-Genauigkeit')\n",
    "plt.title('GridSearchCV Ergebnisse')\n",
    "plt.show()"
   ],
   "id": "ca620f2f8a94d647",
   "outputs": [],
   "execution_count": null
  },
  {
   "metadata": {},
   "cell_type": "markdown",
   "source": [
    "### Aufgabe 4:\n",
    "- Warum kann ein zu kleines oder zu großes k problematisch sein? (Bias-Varianz-Dilemma)\n",
    "- Welchen k würden Sie in der Praxis wählen und warum?"
   ],
   "id": "4d85f330f1bcf65f"
  },
  {
   "metadata": {},
   "cell_type": "markdown",
   "source": [
    "### Lösung Aufgabe 4\n",
    "..."
   ],
   "id": "80f2350e3ae161b4"
  },
  {
   "metadata": {},
   "cell_type": "markdown",
   "source": [
    "## 6. Visualisierung der Entscheidungsgrenzen\n",
    "Für zwei ausgewählte Merkmale (z. B. Sepal-Länge vs. Sepal-Breite) visualisieren Sie die Entscheidungsgrenzen des KNN-Modells.\n"
   ],
   "id": "7603d8a5cae82f69"
  },
  {
   "metadata": {},
   "cell_type": "code",
   "source": [
    "# Merkmale auswählen\n",
    "feature_idx = [0, 1]  # Sepal-Länge, Sepal-Breite\n",
    "X2 = X.iloc[:, feature_idx]\n",
    "labels = iris.target_names\n",
    "\n",
    "# Neues Modell mit bestem k\n",
    "best_k = grid.best_params_['n_neighbors']\n",
    "knn2 = KNeighborsClassifier(n_neighbors=50)\n",
    "knn2.fit(X2, y)\n",
    "\n",
    "# Meshgrid erstellen\n",
    "ih = 0.02  # Schrittweite im Mesh\n",
    "x_min, x_max = X2.iloc[:, 0].min() - 1, X2.iloc[:, 0].max() + 1\n",
    "y_min, y_max = X2.iloc[:, 1].min() - 1, X2.iloc[:, 1].max() + 1\n",
    "xx, yy = np.meshgrid(\n",
    "    np.arange(x_min, x_max, ih),\n",
    "    np.arange(y_min, y_max, ih)\n",
    ")\n",
    "\n",
    "Z = knn2.predict(np.c_[xx.ravel(), yy.ravel()])\n",
    "Z = Z.reshape(xx.shape)\n",
    "\n",
    "plt.figure(figsize=(8,6))\n",
    "plt.contourf(xx, yy, Z, alpha=0.3)\n",
    "plt.scatter(X2.iloc[:, 0], X2.iloc[:, 1], c=y, edgecolor='k')\n",
    "plt.xlabel(iris.feature_names[feature_idx[0]])\n",
    "plt.ylabel(iris.feature_names[feature_idx[1]])\n",
    "plt.title(f'Entscheidungsgrenzen KNN (k={best_k})')\n",
    "plt.show()"
   ],
   "id": "240c99d2e9b53f6b",
   "outputs": [],
   "execution_count": null
  },
  {
   "metadata": {},
   "cell_type": "markdown",
   "source": [
    "### Aufgabe 5:\n",
    "- Interpretieren Sie die Visualisierung. Welche Regionen werden welchen Klassen zugeordnet?\n",
    "- Experimentieren Sie: Wie ändern sich die Grenzen bei anderen Werten von k?"
   ],
   "id": "ff2c3a8cafdca286"
  },
  {
   "metadata": {},
   "cell_type": "markdown",
   "source": [
    "### Lösung Aufgabe 5\n",
    "..."
   ],
   "id": "957b0ee7c3f11b44"
  },
  {
   "metadata": {},
   "cell_type": "markdown",
   "source": [
    "## 7. Reflexion und Weiterführende Aufgaben\n",
    "- Fassen Sie Ihre Erkenntnisse zusammen: Wie wirkt sich k auf Overfitting bzw. Underfitting aus?"
   ],
   "id": "c416d5c309637ce3"
  },
  {
   "metadata": {},
   "cell_type": "markdown",
   "source": [
    "### Lösung\n",
    "..."
   ],
   "id": "5a4d4873b51c0f91"
  },
  {
   "metadata": {},
   "cell_type": "code",
   "source": "",
   "id": "ec829dfbba59010e",
   "outputs": [],
   "execution_count": null
  }
 ],
 "metadata": {
  "kernelspec": {
   "display_name": "Python 3",
   "language": "python",
   "name": "python3"
  },
  "language_info": {
   "codemirror_mode": {
    "name": "ipython",
    "version": 2
   },
   "file_extension": ".py",
   "mimetype": "text/x-python",
   "name": "python",
   "nbconvert_exporter": "python",
   "pygments_lexer": "ipython2",
   "version": "2.7.6"
  }
 },
 "nbformat": 4,
 "nbformat_minor": 5
}
